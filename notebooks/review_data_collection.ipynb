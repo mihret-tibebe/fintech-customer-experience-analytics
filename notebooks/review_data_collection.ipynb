{
 "cells": [
  {
   "cell_type": "code",
   "execution_count": 1,
   "id": "86e2ea4c",
   "metadata": {},
   "outputs": [],
   "source": [
    "import pandas as pd\n",
    "import os"
   ]
  },
  {
   "cell_type": "code",
   "execution_count": null,
   "id": "14d2f15b",
   "metadata": {},
   "outputs": [
    {
     "name": "stdout",
     "output_type": "stream",
     "text": [
      "Total records before cleaning: 6494\n"
     ]
    }
   ],
   "source": [
    "# Load the Raw CSV Files\n",
    "\n",
    "input_folder = \"../scraped_reviews\"\n",
    "all_data = []\n",
    "\n",
    "for file in os.listdir(input_folder):\n",
    "    if file.endswith(\".csv\"):\n",
    "        df = pd.read_csv(os.path.join(input_folder, file))\n",
    "        all_data.append(df)\n",
    "\n",
    "raw_df = pd.concat(all_data, ignore_index=True)\n",
    "print(f\"Total records before cleaning: {len(raw_df)}\")"
   ]
  },
  {
   "cell_type": "code",
   "execution_count": 4,
   "id": "c80e202f",
   "metadata": {},
   "outputs": [
    {
     "name": "stdout",
     "output_type": "stream",
     "text": [
      "Total records after cleaning: 4945\n"
     ]
    }
   ],
   "source": [
    "# Remove rows with missing reviews or ratings\n",
    "clean_df = raw_df.dropna(subset=['review_text', 'rating'])\n",
    "\n",
    "# Remove duplicates based on text and bank\n",
    "clean_df = clean_df.drop_duplicates(subset=['review_text', 'bank_name'])\n",
    "\n",
    "print(f\"Total records after cleaning: {len(clean_df)}\")"
   ]
  },
  {
   "cell_type": "code",
   "execution_count": 5,
   "id": "bea12bd7",
   "metadata": {},
   "outputs": [],
   "source": [
    "# Convert date to standard YYYY-MM-DD\n",
    "clean_df['date'] = pd.to_datetime(clean_df['date'], errors='coerce')\n",
    "clean_df = clean_df.dropna(subset=['date'])  # Drop rows with invalid dates\n",
    "clean_df['date'] = clean_df['date'].dt.strftime('%Y-%m-%d')"
   ]
  },
  {
   "cell_type": "code",
   "execution_count": 6,
   "id": "ffd37c79",
   "metadata": {},
   "outputs": [],
   "source": [
    "clean_df = clean_df[['review_text', 'rating', 'date', 'bank_name', 'source']]"
   ]
  },
  {
   "cell_type": "code",
   "execution_count": 9,
   "id": "8d73eb3e",
   "metadata": {},
   "outputs": [
    {
     "name": "stdout",
     "output_type": "stream",
     "text": [
      "                                           review_text  rating        date  \\\n",
      "3462                  Fast, user-friendly, easy-to-use       5  2024-06-14   \n",
      "4954                      Best mobile banking app ever       4  2023-11-19   \n",
      "5826                                   baaye gaari dha       4  2023-03-20   \n",
      "4949  Best to be Best as your Age of Surveillance Old.       3  2023-11-20   \n",
      "2435                 I used for long time its best app       5  2024-12-24   \n",
      "4318                       It is very used application       5  2024-02-13   \n",
      "6423                                         V good ❗️       5  2025-01-24   \n",
      "3206               It's not appropriate for Play store       1  2024-08-01   \n",
      "1755                                      The best app       5  2025-02-22   \n",
      "858                                 It's good Rate app       5  2024-03-12   \n",
      "\n",
      "                        bank_name       source  \n",
      "3462  Commercial Bank of Ethiopia  Google Play  \n",
      "4954  Commercial Bank of Ethiopia  Google Play  \n",
      "5826  Commercial Bank of Ethiopia  Google Play  \n",
      "4949  Commercial Bank of Ethiopia  Google Play  \n",
      "2435  Commercial Bank of Ethiopia  Google Play  \n",
      "4318  Commercial Bank of Ethiopia  Google Play  \n",
      "6423                  Dashen Bank  Google Play  \n",
      "3206  Commercial Bank of Ethiopia  Google Play  \n",
      "1755  Commercial Bank of Ethiopia  Google Play  \n",
      "858             Bank of Abyssinia  Google Play  \n",
      "Index(['review_text', 'rating', 'date', 'bank_name', 'source'], dtype='object')\n",
      "4945\n"
     ]
    }
   ],
   "source": [
    "print(clean_df.sample(10))\n",
    "print(clean_df.columns)\n",
    "print(len(clean_df))"
   ]
  },
  {
   "cell_type": "code",
   "execution_count": 11,
   "id": "e491002b",
   "metadata": {},
   "outputs": [
    {
     "name": "stdout",
     "output_type": "stream",
     "text": [
      "✅ Cleaned dataset saved as 'cleaned_reviews.csv'\n"
     ]
    }
   ],
   "source": [
    "# Save the Clean CSV\n",
    "clean_df.to_csv(\"../scraped_reviews/cleaned_reviews.csv\", index=False)\n",
    "print(\"✅ Cleaned dataset saved as 'cleaned_reviews.csv'\")"
   ]
  }
 ],
 "metadata": {
  "kernelspec": {
   "display_name": ".venv",
   "language": "python",
   "name": "python3"
  },
  "language_info": {
   "codemirror_mode": {
    "name": "ipython",
    "version": 3
   },
   "file_extension": ".py",
   "mimetype": "text/x-python",
   "name": "python",
   "nbconvert_exporter": "python",
   "pygments_lexer": "ipython3",
   "version": "3.13.3"
  }
 },
 "nbformat": 4,
 "nbformat_minor": 5
}
