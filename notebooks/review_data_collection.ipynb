{
 "cells": [
  {
   "cell_type": "code",
   "execution_count": 1,
   "id": "86e2ea4c",
   "metadata": {},
   "outputs": [],
   "source": [
    "import pandas as pd\n",
    "import os\n",
    "from langdetect import detect, LangDetectException\n",
    "import re\n",
    "import emoji"
   ]
  },
  {
   "cell_type": "code",
   "execution_count": 2,
   "id": "14d2f15b",
   "metadata": {},
   "outputs": [
    {
     "name": "stdout",
     "output_type": "stream",
     "text": [
      "Total records before cleaning: 11439\n"
     ]
    }
   ],
   "source": [
    "# Load the Raw CSV Files\n",
    "\n",
    "input_folder = \"../scraped_reviews\"\n",
    "all_data = []\n",
    "\n",
    "for file in os.listdir(input_folder):\n",
    "    if file.endswith(\".csv\"):\n",
    "        df = pd.read_csv(os.path.join(input_folder, file))\n",
    "        all_data.append(df)\n",
    "\n",
    "raw_df = pd.concat(all_data, ignore_index=True)\n",
    "print(f\"Total records before cleaning: {len(raw_df)}\")"
   ]
  },
  {
   "cell_type": "code",
   "execution_count": 3,
   "id": "c80e202f",
   "metadata": {},
   "outputs": [
    {
     "name": "stdout",
     "output_type": "stream",
     "text": [
      "Total records after cleaning: 4945\n"
     ]
    }
   ],
   "source": [
    "# Remove rows with missing reviews or ratings\n",
    "clean_df = raw_df.dropna(subset=['review_text', 'rating'])\n",
    "\n",
    "# Remove duplicates based on text and bank\n",
    "clean_df = clean_df.drop_duplicates(subset=['review_text', 'bank_name'])\n",
    "\n",
    "print(f\"Total records after cleaning: {len(clean_df)}\")"
   ]
  },
  {
   "cell_type": "code",
   "execution_count": 4,
   "id": "3937dfe1",
   "metadata": {},
   "outputs": [
    {
     "name": "stdout",
     "output_type": "stream",
     "text": [
      "Original shape: (4945, 5)\n",
      "After English filter: (3402, 5)\n",
      "Final clean shape: (3402, 5)\n"
     ]
    }
   ],
   "source": [
    "def is_english(text):\n",
    "    try:\n",
    "        # Check if text is not empty and is English\n",
    "        if not text or not isinstance(text, str) or text.isspace():\n",
    "            return False\n",
    "        return detect(text) == 'en'\n",
    "    except LangDetectException:\n",
    "        return False\n",
    "\n",
    "def has_only_emojis_or_special_chars(text):\n",
    "    if not text or not isinstance(text, str):\n",
    "        return True\n",
    "    \n",
    "    # Remove all emojis\n",
    "    text_without_emojis = emoji.replace_emoji(text, replace='')\n",
    "    \n",
    "    # Remove all special characters and whitespace\n",
    "    text_clean = re.sub(r'[^a-zA-Z0-9\\s]', '', text_without_emojis).strip()\n",
    "    \n",
    "    return len(text_clean) == 0\n",
    "\n",
    "# First filter for English reviews\n",
    "english_mask = clean_df['review_text'].apply(is_english)\n",
    "df_english = clean_df[english_mask].copy()\n",
    "\n",
    "# Then filter out emoji/special character only rows\n",
    "valid_text_mask = ~df_english['review_text'].apply(has_only_emojis_or_special_chars)\n",
    "df_clean = df_english[valid_text_mask].copy()\n",
    "\n",
    "print(f\"Original shape: {clean_df.shape}\")\n",
    "print(f\"After English filter: {df_english.shape}\")\n",
    "print(f\"Final clean shape: {df_clean.shape}\")"
   ]
  },
  {
   "cell_type": "code",
   "execution_count": 5,
   "id": "928b775f",
   "metadata": {},
   "outputs": [],
   "source": [
    "clean_df = df_clean.copy()"
   ]
  },
  {
   "cell_type": "code",
   "execution_count": 6,
   "id": "bea12bd7",
   "metadata": {},
   "outputs": [],
   "source": [
    "# Convert date to standard YYYY-MM-DD\n",
    "clean_df['date'] = pd.to_datetime(clean_df['date'], errors='coerce')\n",
    "clean_df = clean_df.dropna(subset=['date'])  # Drop rows with invalid dates\n",
    "clean_df['date'] = clean_df['date'].dt.strftime('%Y-%m-%d')"
   ]
  },
  {
   "cell_type": "code",
   "execution_count": 7,
   "id": "ffd37c79",
   "metadata": {},
   "outputs": [],
   "source": [
    "clean_df = clean_df[['review_text', 'rating', 'date', 'bank_name', 'source']]"
   ]
  },
  {
   "cell_type": "code",
   "execution_count": 8,
   "id": "8d73eb3e",
   "metadata": {},
   "outputs": [
    {
     "name": "stdout",
     "output_type": "stream",
     "text": [
      "                                            review_text  rating        date  \\\n",
      "2527                                     It is best app       5  2025-02-13   \n",
      "5756  Good actually , but it have to WORK when devel...       5  2025-04-21   \n",
      "4146                         It is good and Okay thanks       5  2024-02-29   \n",
      "245                                 The worest app ever       1  2024-10-03   \n",
      "5921      Excellent UI/UX and beyond Banking services👍👍       5  2025-01-30   \n",
      "480                 Worest app, it cannot be downloaded       2  2024-06-05   \n",
      "5427  It's not working at abroad for me. It was good...       1  2023-03-14   \n",
      "4517  The new version is useless it doesn't work at ...       1  2024-01-24   \n",
      "3203                           Which is very important!       5  2024-10-10   \n",
      "3271                                   Its eassy to use       5  2024-09-23   \n",
      "\n",
      "                        bank_name       source  \n",
      "2527  Commercial Bank of Ethiopia  Google Play  \n",
      "5756                  Dashen Bank  Google Play  \n",
      "4146  Commercial Bank of Ethiopia  Google Play  \n",
      "245             Bank of Abyssinia  Google Play  \n",
      "5921                  Dashen Bank  Google Play  \n",
      "480             Bank of Abyssinia  Google Play  \n",
      "5427  Commercial Bank of Ethiopia  Google Play  \n",
      "4517  Commercial Bank of Ethiopia  Google Play  \n",
      "3203  Commercial Bank of Ethiopia  Google Play  \n",
      "3271  Commercial Bank of Ethiopia  Google Play  \n",
      "Index(['review_text', 'rating', 'date', 'bank_name', 'source'], dtype='object')\n",
      "3402\n"
     ]
    }
   ],
   "source": [
    "print(clean_df.sample(10))\n",
    "print(clean_df.columns)\n",
    "print(len(clean_df))"
   ]
  },
  {
   "cell_type": "code",
   "execution_count": 9,
   "id": "e491002b",
   "metadata": {},
   "outputs": [
    {
     "name": "stdout",
     "output_type": "stream",
     "text": [
      "✅ Cleaned dataset saved as 'cleaned_reviews.csv'\n"
     ]
    }
   ],
   "source": [
    "# Save the Clean CSV\n",
    "clean_df.to_csv(\"../scraped_reviews/cleaned_reviews.csv\", index=False)\n",
    "print(\"✅ Cleaned dataset saved as 'cleaned_reviews.csv'\")"
   ]
  }
 ],
 "metadata": {
  "kernelspec": {
   "display_name": ".venv",
   "language": "python",
   "name": "python3"
  },
  "language_info": {
   "codemirror_mode": {
    "name": "ipython",
    "version": 3
   },
   "file_extension": ".py",
   "mimetype": "text/x-python",
   "name": "python",
   "nbconvert_exporter": "python",
   "pygments_lexer": "ipython3",
   "version": "3.13.3"
  }
 },
 "nbformat": 4,
 "nbformat_minor": 5
}
